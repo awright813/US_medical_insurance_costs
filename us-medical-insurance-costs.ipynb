{
 "cells": [
  {
   "cell_type": "markdown",
   "metadata": {},
   "source": [
    "# U.S. Medical Insurance Costs"
   ]
  },
  {
   "cell_type": "code",
   "execution_count": 310,
   "metadata": {},
   "outputs": [],
   "source": [
    "import csv\n",
    "import statistics\n",
    "from decimal import *"
   ]
  },
  {
   "cell_type": "code",
   "execution_count": 311,
   "metadata": {},
   "outputs": [],
   "source": [
    "ages = []\n",
    "genders = []\n",
    "bmis = []\n",
    "children = []\n",
    "smokers = []\n",
    "regions = []\n",
    "charges = []\n",
    "\n",
    "highest_bmi_individual = {}\n",
    "highest_bmi_individual_smoker = {}\n",
    "\n",
    "with open('insurance.csv') as insurance:\n",
    "    insurance_data = csv.DictReader(insurance, delimiter=',')\n",
    "    individuals_list = []\n",
    "    for individual in insurance_data:\n",
    "        ages.append(individual['age'])\n",
    "        genders.append(individual['sex'])\n",
    "        bmis.append(individual['bmi'])\n",
    "        children.append(individual['children'])\n",
    "        smokers.append(individual['smoker'])\n",
    "        regions.append(individual['region'])\n",
    "        charges.append(individual['charges'])\n",
    "        individuals_list.append(individual)"
   ]
  },
  {
   "cell_type": "code",
   "execution_count": 312,
   "metadata": {},
   "outputs": [
    {
     "name": "stdout",
     "output_type": "stream",
     "text": [
      "The average age of the individuals in this dataset is 39.2\n"
     ]
    }
   ],
   "source": [
    "def average_age(ages):\n",
    "    sum_ages = 0\n",
    "    for age in ages:\n",
    "        sum_ages += float(age)\n",
    "    average = sum_ages / len(ages)\n",
    "    print('The average age of the individuals in this dataset is {}'.format(round(average,1)))\n",
    "\n",
    "average_age(ages)"
   ]
  },
  {
   "cell_type": "code",
   "execution_count": 313,
   "metadata": {},
   "outputs": [
    {
     "name": "stdout",
     "output_type": "stream",
     "text": [
      "There are 662 women in this dataset and 676 men.\n"
     ]
    }
   ],
   "source": [
    "def number_of_women(genders):\n",
    "    number_of_women = 0\n",
    "    for gender in genders:\n",
    "        if gender == 'female':\n",
    "            number_of_women += 1\n",
    "        else:\n",
    "            continue\n",
    "    return number_of_women\n",
    "\n",
    "def number_of_men(genders):\n",
    "    number_of_men = 0\n",
    "    for gender in genders:\n",
    "        if gender == 'male':\n",
    "            number_of_men += 1\n",
    "        else:\n",
    "            continue\n",
    "    return number_of_men\n",
    "\n",
    "women_count = number_of_women(genders)\n",
    "men_count = number_of_men(genders)\n",
    "\n",
    "print('There are {} women in this dataset and {} men.'.format(women_count,men_count))"
   ]
  },
  {
   "cell_type": "code",
   "execution_count": 314,
   "metadata": {},
   "outputs": [
    {
     "name": "stdout",
     "output_type": "stream",
     "text": [
      "The average BMI of the individuals in this dataset is 30.7\n"
     ]
    }
   ],
   "source": [
    "def average_bmi(bmis):\n",
    "    sum_bmis = 0\n",
    "    for bmi in bmis:\n",
    "        sum_bmis += float(bmi)\n",
    "    average = sum_bmis / len(bmis)\n",
    "    print('The average BMI of the individuals in this dataset is {}'.format(round(average,1)))\n",
    "    \n",
    "average_bmi(bmis)"
   ]
  },
  {
   "cell_type": "code",
   "execution_count": 315,
   "metadata": {},
   "outputs": [
    {
     "name": "stdout",
     "output_type": "stream",
     "text": [
      "The individual with the highest BMI has a BMI of 53.13 and is an 18-year-old male.\n",
      "He is not a smoker and has 0 children.\n",
      "He lives in the southeast.\n",
      "The price of his insurance is 1163.46 dollars.\n"
     ]
    },
    {
     "data": {
      "text/plain": [
       "{'Age': '18',\n",
       " 'Gender': 'male',\n",
       " 'Smoker': 'no',\n",
       " 'Children': '0',\n",
       " 'Region': 'southeast',\n",
       " 'Charges': '1163.4627'}"
      ]
     },
     "execution_count": 315,
     "metadata": {},
     "output_type": "execute_result"
    }
   ],
   "source": [
    "def highest_bmi(individuals_list):\n",
    "    highest_value = 0\n",
    "    for item in individuals_list:\n",
    "        if float(item['bmi']) > float(highest_value):\n",
    "            highest_value = item['bmi']\n",
    "            age = item['age']\n",
    "            gender = item['sex']\n",
    "            smoker = item['smoker']\n",
    "            children = item['children']\n",
    "            region = item['region']\n",
    "            charges = item['charges']\n",
    "            continue\n",
    "        else:\n",
    "            continue\n",
    "    print('The individual with the highest BMI has a BMI of {} and is an {}-year-old {}.'.format(highest_value,age,gender))\n",
    "    highest_bmi_individual = {'Age':age, 'Gender':gender,'Smoker':smoker,'Children':children,'Region':region,'Charges':charges}\n",
    "    if gender == 'male':\n",
    "        if children == 0:\n",
    "            if smoker == 'no':\n",
    "                print('He is not a smoker and has no children.')\n",
    "            else:\n",
    "                print('He is a smoker with no children.')\n",
    "        elif children == 1:\n",
    "            if smoker == 'no':\n",
    "                print('He is not a smoker and has one child.')\n",
    "            else:\n",
    "                print('He is a smoker with one child.')\n",
    "        else:\n",
    "            if smoker == 'no':\n",
    "                print('He is not a smoker and has {} children.'.format(children))\n",
    "            else:\n",
    "                print('He is a smoker with {} children.'.format(children))\n",
    "        print('He lives in the {}.'.format(region))\n",
    "        print('The price of his insurance is {} dollars.'.format(round(float(charges),2)))\n",
    "    elif gender == 'female':\n",
    "        if children == 0:\n",
    "            if smoker == 'no':\n",
    "                print('She is not a smoker and has no children.')\n",
    "            else:\n",
    "                print('She is a smoker with no children.')\n",
    "        elif children == 1:\n",
    "            if smoker == 'no':\n",
    "                print('She is not a smoker and has one child.')\n",
    "            else:\n",
    "                print('She is a smoker with one child.')\n",
    "        else:\n",
    "            if smoker == 'no':\n",
    "                print('She is not a smoker and has {} children.'.format(children))\n",
    "            else:\n",
    "                print('She is a smoker with {} children.'.format(children))\n",
    "        print('She lives in the {}.'.format(region))\n",
    "        print('The price of her insurance is {}.'.format(charges))\n",
    "    return highest_bmi_individual\n",
    "    \n",
    "    \n",
    "highest_bmi(individuals_list)"
   ]
  },
  {
   "cell_type": "code",
   "execution_count": 316,
   "metadata": {},
   "outputs": [
    {
     "name": "stdout",
     "output_type": "stream",
     "text": [
      "The region with the highest average BMI is the southeast with an average BMI of 33.4 and a sample size of 364.\n",
      "The southwest has an average BMI of 30.6 with a sample size of 325.\n",
      "The northwest has an average BMI of 29.2 with a sample size of 325.\n",
      "The northeast has an average BMI of 29.2 with a sample size of 324.\n",
      "A standard deviation of: 1.98\n"
     ]
    }
   ],
   "source": [
    "list_of_regions = []\n",
    "def region_highest_bmis(individuals_list):\n",
    "    regions_bmis_list = {}\n",
    "    regions_bmis_count = {}\n",
    "    regions_bmis_average = {}\n",
    "    for item in individuals_list:\n",
    "        if item['region'] in list_of_regions:\n",
    "            continue\n",
    "        else:\n",
    "            list_of_regions.append(item['region'])\n",
    "            \n",
    "    for place in list_of_regions:\n",
    "        for item in individuals_list:\n",
    "            if item['region'] == place:\n",
    "                if place in regions_bmis_count:\n",
    "                    regions_bmis_count[place].append(item['bmi'])\n",
    "                else:\n",
    "                    regions_bmis_count[place] = [item['bmi']]\n",
    "    for key, value in regions_bmis_count.items():\n",
    "        sample_size = len(value)\n",
    "        regions_bmis_count[key] = sample_size\n",
    "    \n",
    "    for place in list_of_regions:\n",
    "        for item in individuals_list:\n",
    "            if item['region'] == place:\n",
    "                if place in regions_bmis_list:\n",
    "                    regions_bmis_list[place].append(item['bmi'])\n",
    "                else:\n",
    "                    regions_bmis_list[place] = [item['bmi']]\n",
    "    for key, value in regions_bmis_list.items():\n",
    "        sum_values = 0\n",
    "        for i in value:\n",
    "            sum_values += float(i)\n",
    "        average = sum_values / len(value)\n",
    "        regions_bmis_average[key]=round(average,1)\n",
    "    highest_value = 0\n",
    "    for key, value in regions_bmis_average.items():\n",
    "        if value > highest_value:\n",
    "            highest_value = value\n",
    "            fattest_region = key\n",
    "        else:\n",
    "            continue\n",
    "    print('The region with the highest average BMI is the {} with an average BMI of {} and a sample size of {}.'.format(fattest_region,highest_value,regions_bmis_count[fattest_region]))\n",
    "    for key, value in regions_bmis_average.items():\n",
    "        if key == fattest_region:\n",
    "            continue\n",
    "        else:\n",
    "            print('The {} has an average BMI of {} with a sample size of {}.'.format(key, value,regions_bmis_count[key]))\n",
    "    standard_deviation_bmis = statistics.stdev(regions_bmis_average.values())\n",
    "    print('A standard deviation of: {}'.format(round(standard_deviation_bmis,2)))\n",
    "    \n",
    "region_highest_bmis(individuals_list)"
   ]
  },
  {
   "cell_type": "code",
   "execution_count": 317,
   "metadata": {},
   "outputs": [
    {
     "name": "stdout",
     "output_type": "stream",
     "text": [
      "The region with the highest average medical insurance costs is southeast with an average cost of 14735.41 dollars.\n",
      "The southwest has an average medical insurance cost of 12346.94.\n",
      "The northwest has an average medical insurance cost of 12417.58.\n",
      "The northeast has an average medical insurance cost of 13406.38.\n",
      "A standard deviation of: 1116.12\n"
     ]
    }
   ],
   "source": [
    "def region_highest_charges(individuals_list,list_of_regions):\n",
    "    regions_charges_list = {}\n",
    "    regions_charges_average = {}\n",
    "    for place in list_of_regions:\n",
    "        for item in individuals_list:\n",
    "            if item['region'] == place:\n",
    "                if place in regions_charges_list:\n",
    "                    regions_charges_list[place].append(item['charges'])\n",
    "                else:\n",
    "                    regions_charges_list[place]=[item['charges']]\n",
    "    for key, value in regions_charges_list.items():\n",
    "        sum_values = 0\n",
    "        for i in value:\n",
    "            sum_values += float(i)\n",
    "        average = sum_values / len(value)\n",
    "        regions_charges_average[key]=round(average,2)\n",
    "    highest_value = 0\n",
    "    for key, value in regions_charges_average.items():\n",
    "        if value > highest_value:\n",
    "            highest_value = value\n",
    "            most_expensive_region = key\n",
    "        else:\n",
    "            continue\n",
    "    print('The region with the highest average medical insurance costs is {} with an average cost of {} dollars.'.format(most_expensive_region,highest_value))\n",
    "    for key, value in regions_charges_average.items():\n",
    "        if key == most_expensive_region:\n",
    "            continue\n",
    "        else:\n",
    "            print('The {} has an average medical insurance cost of {}.'.format(key,value))\n",
    "    standard_deviation_charges = statistics.stdev(regions_charges_average.values())\n",
    "    print('A standard deviation of: {}'.format(round(standard_deviation_charges,2)))\n",
    "\n",
    "    \n",
    "region_highest_charges(individuals_list,list_of_regions)"
   ]
  },
  {
   "cell_type": "code",
   "execution_count": 318,
   "metadata": {},
   "outputs": [
    {
     "name": "stdout",
     "output_type": "stream",
     "text": [
      "The region with the greatest amount of smokers is southeast with 364 smokers.\n",
      "The southwest has 325 smokers.\n",
      "The northwest has 325 smokers.\n",
      "The northeast has 324 smokers.\n",
      "A standard deviation of: 19.67\n"
     ]
    }
   ],
   "source": [
    "def most_smokers(individuals_list, list_of_regions):\n",
    "    regions_smokers_count = {}\n",
    "    for place in list_of_regions:\n",
    "        for item in individuals_list:\n",
    "            if item['region'] == place:\n",
    "                if place in regions_smokers_count:\n",
    "                    regions_smokers_count[place] += 1\n",
    "                else:\n",
    "                    regions_smokers_count[place] = 1\n",
    "    highest_value = 0\n",
    "    for key, value in regions_smokers_count.items():\n",
    "        if value > highest_value:\n",
    "            highest_value = value\n",
    "            most_smokers = key\n",
    "        else:\n",
    "            continue\n",
    "    print('The region with the greatest amount of smokers is {} with {} smokers.'.format(most_smokers,highest_value))\n",
    "    for key, value in regions_smokers_count.items():\n",
    "        if key == most_smokers:\n",
    "            continue\n",
    "        else:\n",
    "            print('The {} has {} smokers.'.format(key,value))\n",
    "    standard_deviation_smokers = statistics.stdev(regions_smokers_count.values())\n",
    "    print('A standard deviation of: {}'.format(round(standard_deviation_smokers,2)))\n",
    "\n",
    "most_smokers(individuals_list, list_of_regions)"
   ]
  },
  {
   "cell_type": "code",
   "execution_count": 319,
   "metadata": {},
   "outputs": [
    {
     "name": "stdout",
     "output_type": "stream",
     "text": [
      "The southwest has an average age of 39.5.\n",
      "The southeast has an average age of 38.9.\n",
      "The northwest has an average age of 39.2.\n",
      "The northeast has an average age of 39.3.\n",
      "A standard deviation of: 0.25\n"
     ]
    }
   ],
   "source": [
    "def average_age(individuals_list, list_of_regions):\n",
    "    regions_age_list = {}\n",
    "    regions_age_average = {}\n",
    "    for place in list_of_regions:\n",
    "        for item in individuals_list:\n",
    "            if item['region'] == place:\n",
    "                if place in regions_age_list:\n",
    "                    regions_age_list[place].append(item['age'])\n",
    "                else:\n",
    "                    regions_age_list[place] = [item['age']]\n",
    "    for key, value in regions_age_list.items():\n",
    "        sum_values = 0\n",
    "        for age in value:\n",
    "            sum_values += int(age)\n",
    "        average = sum_values / len(value)\n",
    "        regions_age_average[key] = round(average,1)\n",
    "    for key, value in regions_age_average.items():\n",
    "        print('The {} has an average age of {}.'.format(key,value))\n",
    "    standard_deviation_age = statistics.stdev(regions_age_average.values())\n",
    "    print('A standard deviation of: {}'.format(round(standard_deviation_age,2)))\n",
    "        \n",
    "average_age(individuals_list,list_of_regions)\n",
    "            "
   ]
  },
  {
   "cell_type": "code",
   "execution_count": 320,
   "metadata": {},
   "outputs": [
    {
     "name": "stdout",
     "output_type": "stream",
     "text": [
      "Individuals in the southwest have 1.14 children on average.\n",
      "Individuals in the southeast have 1.05 children on average.\n",
      "Individuals in the northwest have 1.15 children on average.\n",
      "Individuals in the northeast have 1.05 children on average.\n",
      "A standard deviation of: 0.05\n"
     ]
    }
   ],
   "source": [
    "def average_num_children(individuals_list, list_of_regions):\n",
    "    regions_children_count = {}\n",
    "    regions_children_average = {}\n",
    "    for place in list_of_regions:\n",
    "        for item in individuals_list:\n",
    "            if item['region'] == place:\n",
    "                if place in regions_children_count:\n",
    "                    regions_children_count[place].append(item['children'])\n",
    "                else:\n",
    "                    regions_children_count[place] = [item['children']]\n",
    "    for key, value in regions_children_count.items():\n",
    "        sum_values = 0\n",
    "        for children in value:\n",
    "            sum_values += int(children)\n",
    "        average = sum_values / len(value)\n",
    "        regions_children_average[key] = round(average,2)\n",
    "    for key, value in regions_children_average.items():\n",
    "        print('Individuals in the {} have {} children on average.'.format(key,value))\n",
    "    standard_deviation_children = statistics.stdev(regions_children_average.values())\n",
    "    print('A standard deviation of: {}'.format(round(standard_deviation_children,2)))\n",
    "    \n",
    "    \n",
    "average_num_children(individuals_list, list_of_regions)"
   ]
  },
  {
   "cell_type": "code",
   "execution_count": 327,
   "metadata": {},
   "outputs": [
    {
     "name": "stdout",
     "output_type": "stream",
     "text": [
      "The smoker with the highest BMI has a BMI of 52.58 and insurance charges of 44501.3982 at age 22.\n",
      "No 18-year-old smoker found for comparison.\n",
      "{}\n"
     ]
    }
   ],
   "source": [
    "def highest_bmi_smoker(individuals_list):\n",
    "    highest_value = 0\n",
    "    for item in individuals_list:\n",
    "        if item['smoker'] == 'yes':\n",
    "            if float(item['bmi']) > float(highest_value):\n",
    "                highest_value = item['bmi']\n",
    "                age = item['age']\n",
    "                gender = item['sex']\n",
    "                smoker = item['smoker']\n",
    "                children = item['children']\n",
    "                region = item['region']\n",
    "                charges = item['charges']\n",
    "        else:\n",
    "            continue\n",
    "    print('The smoker with the highest BMI has a BMI of {} and insurance charges of {} at age {}.'.format(highest_value,charges,age))\n",
    "    highest_bmi_individual_smoker = {'Age':age,'Gender':gender,'Smoker':smoker,'Children':children,'Region':region,'Charges':charges}\n",
    "    for item in individuals_list:\n",
    "        if item['smoker'] == 'yes':\n",
    "            if item['age'] == 18:\n",
    "                if float(item['bmi']) > float(highest_value):\n",
    "                    highest_value = item['bmi']\n",
    "                    age = item['age']\n",
    "                    gender = item['sex']\n",
    "                    smoker = item['smoker']\n",
    "                    children = item['children']\n",
    "                    region = item['region']\n",
    "                    charges = item['charges']\n",
    "        else:\n",
    "            continue\n",
    "    if age != 18:\n",
    "        print('No 18-year-old smoker found for comparison.')\n",
    "    else:\n",
    "        print('An 18-year-old smoker with a similar BMI ({}) has charges of {}.'.format(highest_value,charges))\n",
    "        \n",
    "highest_bmi_smoker(individuals_list)"
   ]
  },
  {
   "cell_type": "code",
   "execution_count": null,
   "metadata": {},
   "outputs": [],
   "source": []
  }
 ],
 "metadata": {
  "kernelspec": {
   "display_name": "Python 3 (ipykernel)",
   "language": "python",
   "name": "python3"
  },
  "language_info": {
   "codemirror_mode": {
    "name": "ipython",
    "version": 3
   },
   "file_extension": ".py",
   "mimetype": "text/x-python",
   "name": "python",
   "nbconvert_exporter": "python",
   "pygments_lexer": "ipython3",
   "version": "3.9.5"
  }
 },
 "nbformat": 4,
 "nbformat_minor": 4
}
